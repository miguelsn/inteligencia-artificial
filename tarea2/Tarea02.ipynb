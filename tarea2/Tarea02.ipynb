{
 "cells": [
  {
   "cell_type": "markdown",
   "id": "1c989738-22ac-464e-a7d9-598d91549339",
   "metadata": {},
   "source": [
    "# **Tarea 2:** **Problemas de Busqueda**"
   ]
  },
  {
   "cell_type": "markdown",
   "id": "903bc08d-7cd0-4983-b40f-408278ea66b1",
   "metadata": {},
   "source": [
    "**Miguel Sebastian Navarro Islas**"
   ]
  },
  {
   "cell_type": "code",
   "execution_count": 4,
   "id": "785c842d-7731-4bb4-9240-a2fbdeb93eba",
   "metadata": {
    "tags": []
   },
   "outputs": [],
   "source": [
    "import numpy as pd\n",
    "import random"
   ]
  },
  {
   "cell_type": "markdown",
   "id": "d9ed07ea-b959-4d47-841e-de84f9519cd2",
   "metadata": {},
   "source": [
    "### **Problema 1:** Modela el juego de las torres de Hanói como un problema de búsqueda."
   ]
  },
  {
   "cell_type": "markdown",
   "id": "ae1a60d2-7473-4d2e-b167-7913a1dd0324",
   "metadata": {},
   "source": [
    "**Estado inicial:** <br>\n",
    "Todas las piezas se encuentran ordenadas en el primer poste, por ejemplo:"
   ]
  },
  {
   "cell_type": "code",
   "execution_count": 5,
   "id": "1b05f944-781f-4372-a00b-725b21d64937",
   "metadata": {
    "tags": []
   },
   "outputs": [],
   "source": [
    "init = [[1,2,3,4,5,6,7],[],[]]"
   ]
  },
  {
   "cell_type": "markdown",
   "id": "612f84df-759c-4881-bd81-7597e7aec7c7",
   "metadata": {},
   "source": [
    "**Acciones:**<br>\n",
    "Mover la primer pieza de un poste hacia otro poste, siempre y cuando el poste este vacío o su primer pieza sea una pieza más grande que la que se va a mover."
   ]
  },
  {
   "cell_type": "code",
   "execution_count": 6,
   "id": "829d77e7-5c11-423d-8cd0-97e6980e6719",
   "metadata": {
    "tags": []
   },
   "outputs": [],
   "source": [
    "oneaction = [[2,3,4,5,6,7],[],[1]]"
   ]
  },
  {
   "cell_type": "markdown",
   "id": "0a25b450-6caf-4a77-91cf-b3d24f0de27c",
   "metadata": {},
   "source": [
    "**Costo:**<br>\n",
    "Cada acción tiene costo de 1 <br>\n",
    "La función de costo regresa 1 sin importar _a_ o _s_"
   ]
  },
  {
   "cell_type": "markdown",
   "id": "78b5c3a2-2555-4d08-b912-03529865971b",
   "metadata": {
    "tags": []
   },
   "source": [
    "**Sucesores:** <br>\n",
    "Los sucesores de un estado se obtienen tomando la primer pieza de un poste y revisando si se puede colocar en otro poste. <br>\n",
    "La función _Succ(s,a)_ se encarga de revisar estos estados y regresar los estados válidos"
   ]
  },
  {
   "cell_type": "markdown",
   "id": "65c287cb-cddf-4286-bbff-6f2832a54615",
   "metadata": {},
   "source": [
    "**Estado final:**"
   ]
  },
  {
   "cell_type": "markdown",
   "id": "e0935709-6aee-44cb-be2a-4457dc7f58a0",
   "metadata": {},
   "source": [
    "El estado final es cuando el último poste tiene todas las piezas ordenadas. <br>"
   ]
  },
  {
   "cell_type": "code",
   "execution_count": 7,
   "id": "a83a8a76-b3d8-416d-ad8e-600bf2b73152",
   "metadata": {
    "tags": []
   },
   "outputs": [],
   "source": [
    "end = [[],[],[1,2,3,4,5,6,7]]"
   ]
  },
  {
   "cell_type": "markdown",
   "id": "2139ce5a-8d8d-4054-812d-a9ee0ed90689",
   "metadata": {},
   "source": [
    "La función _IsEnd(s)_ verifica que _s_ sea igual que la lista del ejemplo _end_"
   ]
  },
  {
   "cell_type": "markdown",
   "id": "0042f6a1-3f58-4b86-bf8d-dbc3541393e5",
   "metadata": {},
   "source": [
    "### **Problema 2:** Escribe un programa de Python que genere un tablero de Sudoku resuelto de forma aleatoria de tamaño $9\\times9$.  No busques algoritmos para lograr esto, en su lugar, plantea una idea clave para resolver el problema y asegúrate que tu implementación sea lo más clara y entendible que puedas."
   ]
  },
  {
   "cell_type": "code",
   "execution_count": 8,
   "id": "d272ee78-4e96-40a6-9c20-a427e4576958",
   "metadata": {
    "tags": []
   },
   "outputs": [],
   "source": [
    "def sudoku():\n",
    "    board = pd.zeros((9,9), dtype = int)   # initialize a 9x9 grid with zeros\n",
    "    numbers = [i+1 for i in range(9)]\n",
    "    # Generate a random solved Sudoku board using backtracking algorithm\n",
    "    def backtrack(board):\n",
    "        for row in range(9):\n",
    "            for col in range(9):\n",
    "                if board[row][col] == 0:\n",
    "                    random.shuffle(numbers)\n",
    "                    for num in numbers:\n",
    "                        if is_valid(board, row, col, num):\n",
    "                            board[row][col] = num\n",
    "                            if backtrack(board):\n",
    "                                return True\n",
    "                            board[row][col] = 0\n",
    "                    return False\n",
    "        return True\n",
    "    \n",
    "    # Check if a number is valid to place in a given cell\n",
    "    def is_valid(board, row, col, num):\n",
    "        # Check row and column\n",
    "        for i in range(9):\n",
    "            if board[row][i] == num or board[i][col] == num:\n",
    "                return False\n",
    "        # Check 3x3 box\n",
    "        box_row = row - row % 3\n",
    "        box_col = col - col % 3\n",
    "        for i in range(box_row, box_row+3):\n",
    "            for j in range(box_col, box_col+3):\n",
    "                if board[i][j] == num:\n",
    "                    return False\n",
    "        return True\n",
    "    \n",
    "    # Generate a random solved Sudoku board\n",
    "    backtrack(board)\n",
    "    return board"
   ]
  },
  {
   "cell_type": "code",
   "execution_count": 17,
   "id": "8dd56aaf-df88-499e-a138-0595de228fdb",
   "metadata": {
    "tags": []
   },
   "outputs": [
    {
     "data": {
      "text/plain": [
       "array([[6, 1, 4, 7, 9, 2, 8, 5, 3],\n",
       "       [7, 2, 3, 6, 5, 8, 9, 4, 1],\n",
       "       [5, 9, 8, 1, 4, 3, 6, 7, 2],\n",
       "       [8, 6, 9, 5, 3, 4, 2, 1, 7],\n",
       "       [3, 4, 2, 9, 1, 7, 5, 6, 8],\n",
       "       [1, 5, 7, 2, 8, 6, 4, 3, 9],\n",
       "       [4, 3, 1, 8, 2, 5, 7, 9, 6],\n",
       "       [9, 8, 6, 4, 7, 1, 3, 2, 5],\n",
       "       [2, 7, 5, 3, 6, 9, 1, 8, 4]])"
      ]
     },
     "execution_count": 17,
     "metadata": {},
     "output_type": "execute_result"
    }
   ],
   "source": [
    "sudoku()"
   ]
  },
  {
   "cell_type": "markdown",
   "id": "a139f542-85a0-4638-8cd4-9bb3d371c9c5",
   "metadata": {},
   "source": [
    "### **Problema 3:**  Escribe una implementación de `backtrackingSearch` que sea funcionalmente equivalente a la implementación de arriba sin utilizar variables fuera del ámbito local de una función."
   ]
  },
  {
   "cell_type": "code",
   "execution_count": 10,
   "id": "1cb2d7a4-fcda-45a4-bb99-cc4bf690a778",
   "metadata": {
    "tags": []
   },
   "outputs": [],
   "source": [
    "def backtrackingSearch(problem):\n",
    "    def findBest(state, path, cost, bestCost=float('+inf'), bestPath=None):\n",
    "        if problem.isEnd(state):\n",
    "            if cost<bestCost:\n",
    "                bestCost = cost\n",
    "                bestPath = path\n",
    "            return bestCost, bestPath\n",
    "        for action, next_state, next_cost in edges(problem, state):\n",
    "            bestCost, bestPath = findBest(next_state,\n",
    "                     path + [(action, next_state, next_cost)],\n",
    "                     cost + next_cost,\n",
    "                     bestCost = bestCost,\n",
    "                     bestPath = bestPath)\n",
    "        return bestCost, bestPath\n",
    "    return findBest(state = problem.initialState(),\n",
    "                    path = [],\n",
    "                    cost = 0)"
   ]
  },
  {
   "cell_type": "markdown",
   "id": "1c07fd24-3a86-4084-8608-7eff3ef5901d",
   "metadata": {},
   "source": [
    "### **Problema 4:** Observa que tanto la implementación de `futureCosts` como de `dynamicProgramming` iteran sobre las aristas del estado actual. Programa una mejor implementación combinando las ideas de ambas funciones."
   ]
  },
  {
   "cell_type": "code",
   "execution_count": 18,
   "id": "04fd199b-934c-4077-924c-ccf7eb51243a",
   "metadata": {
    "tags": []
   },
   "outputs": [],
   "source": [
    "def dynamicProgramming(problem):\n",
    "    costs = {}\n",
    "    def futureCosts(state):\n",
    "        if problem.isEnd(state):\n",
    "            costs[state]=0\n",
    "        if state in costs:\n",
    "            return costs[state]\n",
    "        costs[state] = min(next_cost + futureCost(next_state) for action, next_state,next_cost in edges(problem,state))\n",
    "        return costs[state]\n",
    "    futureCosts(problem.initialState())\n",
    "    return costs"
   ]
  },
  {
   "cell_type": "markdown",
   "id": "e190ff0e-7ef4-4541-b837-e2aa71483488",
   "metadata": {},
   "source": [
    "### **Problema 5:** ¿Por qué el algoritmo de Dijkstra no puede trabajar con pesos negativos? ¿Qué pasa si le sumamos a todos los pesos el peso mínimo de la gráfica? Presenta una gráfica dirigida ponderada en donde esta \"solución\" no funciona."
   ]
  },
  {
   "attachments": {
    "ab036e34-d4e6-4532-a84b-00fc1ec2b6f2.png": {
     "image/png": "[encoded data removed]"
    }
   },
   "cell_type": "markdown",
   "id": "99c5c076-61c2-4044-bcf8-b118653535c4",
   "metadata": {},
   "source": [
    "El algoritmo de Dijkstra no puede trabajar con pesos negativos debido a la manera en la que explora los estados. Como siempre busca el menor costo, puede encontrar problemas cuando se tiene un ciclo de costos negativos (ya que el costo de un nodo a cualquier otro nodo dentro de este ciclo va a ser menor a cualquier costo positivo) o también si se tiene un camino con un costo negativo por medio, es posible que el algoritmo no lo encuentre. Es decir, tomando la siguiente grafica: <br>\n",
    "![image.png](attachment:ab036e34-d4e6-4532-a84b-00fc1ec2b6f2.png) <br>\n",
    "El algoritmo tomara la ruta A, C como la ruta menos costosa para llegar a C, sin embargo, la ruta A, B, C tiene menor costo."
   ]
  },
  {
   "attachments": {
    "5c1741b3-7dff-46b1-b244-3e9039cfb468.png": {
     "image/png": "[encoded data removed]"
    }
   },
   "cell_type": "markdown",
   "id": "d027fe18-5b0c-4dce-a29b-6a0db143288f",
   "metadata": {},
   "source": [
    "Sumar el costo minimo no es una buena solución para todas las gráficas ya que si un camino es más largo que otro (pero sigue siendo el camino óptimo) es probable que este camino deje de ser el camino optimo ya que se le agregara el costo minimo por cada nodo que se incluya en el camino. Por ejemplo: <br>\n",
    "![image.png](attachment:5c1741b3-7dff-46b1-b244-3e9039cfb468.png)<br>\n",
    "En esta gráfica, si sumamos el minimo (2) a cada nodo, el costo del camino A, B, C, D sería 6 (0 +3 + 0 + 3) mientras que el costo del camino A, D sería 2. Sin embargo, cuando no sumamos el minimo, el camino óptimo deberia de ser A, B, C, D por lo tanto sumar el costo minimo a la gráfica no funciona."
   ]
  }
 ],
 "metadata": {
  "kernelspec": {
   "display_name": "Python 3 (ipykernel)",
   "language": "python",
   "name": "python3"
  },
  "language_info": {
   "codemirror_mode": {
    "name": "ipython",
    "version": 3
   },
   "file_extension": ".py",
   "mimetype": "text/x-python",
   "name": "python",
   "nbconvert_exporter": "python",
   "pygments_lexer": "ipython3",
   "version": "3.8.0"
  }
 },
 "nbformat": 4,
 "nbformat_minor": 5
}
